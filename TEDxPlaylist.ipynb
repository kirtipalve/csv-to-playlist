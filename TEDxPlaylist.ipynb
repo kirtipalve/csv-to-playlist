{
 "cells": [
  {
   "cell_type": "code",
   "execution_count": 89,
   "metadata": {},
   "outputs": [],
   "source": [
    "import pandas as pd\n",
    "import numpy as np"
   ]
  },
  {
   "cell_type": "code",
   "execution_count": 90,
   "metadata": {},
   "outputs": [],
   "source": [
    "df=pd.read_csv('//Users//kirtipalve//Downloads//marcato.csv')"
   ]
  },
  {
   "cell_type": "code",
   "execution_count": 91,
   "metadata": {},
   "outputs": [
    {
     "data": {
      "text/html": [
       "<div>\n",
       "<style scoped>\n",
       "    .dataframe tbody tr th:only-of-type {\n",
       "        vertical-align: middle;\n",
       "    }\n",
       "\n",
       "    .dataframe tbody tr th {\n",
       "        vertical-align: top;\n",
       "    }\n",
       "\n",
       "    .dataframe thead th {\n",
       "        text-align: right;\n",
       "    }\n",
       "</style>\n",
       "<table border=\"1\" class=\"dataframe\">\n",
       "  <thead>\n",
       "    <tr style=\"text-align: right;\">\n",
       "      <th></th>\n",
       "      <th>Timestamp</th>\n",
       "      <th>Name</th>\n",
       "      <th>Your favorite song:</th>\n",
       "      <th>Spotify Link</th>\n",
       "    </tr>\n",
       "  </thead>\n",
       "  <tbody>\n",
       "    <tr>\n",
       "      <th>0</th>\n",
       "      <td>1/27/2022 12:00:25</td>\n",
       "      <td>Nidhi Bivalkar</td>\n",
       "      <td>Monta re &lt;3</td>\n",
       "      <td>https://open.spotify.com/track/5UHvVfewZKxwoB6...</td>\n",
       "    </tr>\n",
       "    <tr>\n",
       "      <th>1</th>\n",
       "      <td>1/27/2022 12:01:30</td>\n",
       "      <td>Kaushal Kulkarni</td>\n",
       "      <td>Blueberry faygo</td>\n",
       "      <td>https://open.spotify.com/track/22LAwLoDA5b4AaG...</td>\n",
       "    </tr>\n",
       "    <tr>\n",
       "      <th>2</th>\n",
       "      <td>1/27/2022 12:02:00</td>\n",
       "      <td>Ameya Dhake</td>\n",
       "      <td>Blinding Lights by The Weeknd</td>\n",
       "      <td>https://open.spotify.com/track/0VjIjW4GlUZAMYd...</td>\n",
       "    </tr>\n",
       "    <tr>\n",
       "      <th>3</th>\n",
       "      <td>1/27/2022 12:02:12</td>\n",
       "      <td>Pinak Mapari</td>\n",
       "      <td>Wake Me Up</td>\n",
       "      <td>https://open.spotify.com/track/0nrRP2bk19rLc0o...</td>\n",
       "    </tr>\n",
       "    <tr>\n",
       "      <th>4</th>\n",
       "      <td>1/27/2022 12:02:25</td>\n",
       "      <td>Manasi</td>\n",
       "      <td>Reality, lost frequencies</td>\n",
       "      <td>https://open.spotify.com/track/1Mys1gf9SkMBAVG...</td>\n",
       "    </tr>\n",
       "  </tbody>\n",
       "</table>\n",
       "</div>"
      ],
      "text/plain": [
       "            Timestamp              Name            Your favorite song:  \\\n",
       "0  1/27/2022 12:00:25   Nidhi Bivalkar                     Monta re <3   \n",
       "1  1/27/2022 12:01:30  Kaushal Kulkarni                Blueberry faygo   \n",
       "2  1/27/2022 12:02:00       Ameya Dhake  Blinding Lights by The Weeknd   \n",
       "3  1/27/2022 12:02:12      Pinak Mapari                     Wake Me Up   \n",
       "4  1/27/2022 12:02:25           Manasi       Reality, lost frequencies   \n",
       "\n",
       "                                        Spotify Link  \n",
       "0  https://open.spotify.com/track/5UHvVfewZKxwoB6...  \n",
       "1  https://open.spotify.com/track/22LAwLoDA5b4AaG...  \n",
       "2  https://open.spotify.com/track/0VjIjW4GlUZAMYd...  \n",
       "3  https://open.spotify.com/track/0nrRP2bk19rLc0o...  \n",
       "4  https://open.spotify.com/track/1Mys1gf9SkMBAVG...  "
      ]
     },
     "execution_count": 91,
     "metadata": {},
     "output_type": "execute_result"
    }
   ],
   "source": [
    "df.head()"
   ]
  },
  {
   "cell_type": "code",
   "execution_count": 92,
   "metadata": {},
   "outputs": [],
   "source": [
    "#rename column\n",
    "df.rename(columns={'Spotify Link' :'spotify_link'},inplace=True)"
   ]
  },
  {
   "cell_type": "code",
   "execution_count": 94,
   "metadata": {},
   "outputs": [
    {
     "data": {
      "text/plain": [
       "31"
      ]
     },
     "execution_count": 94,
     "metadata": {},
     "output_type": "execute_result"
    }
   ],
   "source": [
    "len(df['spotify_link'])"
   ]
  },
  {
   "cell_type": "code",
   "execution_count": 95,
   "metadata": {},
   "outputs": [],
   "source": [
    "list_of_songs=[]"
   ]
  },
  {
   "cell_type": "code",
   "execution_count": 97,
   "metadata": {},
   "outputs": [],
   "source": [
    "list_of_songs=df['spotify_link']"
   ]
  },
  {
   "cell_type": "code",
   "execution_count": 99,
   "metadata": {},
   "outputs": [
    {
     "data": {
      "text/plain": [
       "31"
      ]
     },
     "execution_count": 99,
     "metadata": {},
     "output_type": "execute_result"
    }
   ],
   "source": [
    "list_of_songs=list(set(list_of_songs))\n",
    "len(list_of_songs)"
   ]
  },
  {
   "cell_type": "code",
   "execution_count": null,
   "metadata": {},
   "outputs": [],
   "source": [
    "import spotipy\n",
    "from spotipy.oauth2 import SpotifyOAuth\n",
    "import json\n",
    "import os"
   ]
  },
  {
   "cell_type": "code",
   "execution_count": null,
   "metadata": {},
   "outputs": [],
   "source": [
    "scope='playlist-modify-public'\n",
    "username='nmssepy1zda4pvncgnwim3bgj'"
   ]
  },
  {
   "cell_type": "code",
   "execution_count": null,
   "metadata": {},
   "outputs": [],
   "source": [
    "cid =\"c7c79f3ad1ec4ee6b52a7786f47fec1e\" \n",
    "secret = \"86812a87dcb6427eadd55ee23fa4b2da\"\n",
    "\n",
    "os.environ['SPOTIPY_CLIENT_ID']= cid\n",
    "os.environ['SPOTIPY_CLIENT_SECRET']= secret\n",
    "os.environ['SPOTIPY_REDIRECT_URI']='http://localhost:8001/callback'"
   ]
  },
  {
   "cell_type": "code",
   "execution_count": null,
   "metadata": {},
   "outputs": [],
   "source": [
    "token=SpotifyOAuth(scope=scope,username=username)"
   ]
  },
  {
   "cell_type": "code",
   "execution_count": null,
   "metadata": {},
   "outputs": [],
   "source": [
    "spotifyObject= spotipy.Spotify(auth_manager=token)"
   ]
  },
  {
   "cell_type": "code",
   "execution_count": null,
   "metadata": {},
   "outputs": [],
   "source": [
    "#create the playlis\n",
    "playlist_name=\"TEDx Marcato playlist2\"\n",
    "playlist_description=\"Compilation of favourite songs of TEDxPICT volunteers\""
   ]
  },
  {
   "cell_type": "code",
   "execution_count": null,
   "metadata": {},
   "outputs": [],
   "source": [
    "spotifyObject.user_playlist_create(user=username,name=playlist_name,public=True,description=playlist_description)"
   ]
  },
  {
   "cell_type": "code",
   "execution_count": null,
   "metadata": {},
   "outputs": [],
   "source": [
    "for i in range(len(song_names)):\n",
    "    result=spotifyObject.search(q=song_names[i])\n",
    "\n",
    "    list_of_songs.append(result['tracks']['items'][0]['uri'])"
   ]
  },
  {
   "cell_type": "code",
   "execution_count": null,
   "metadata": {},
   "outputs": [],
   "source": [
    "prePlaylist= spotifyObject.user_playlists(user=username)\n",
    "playlist=prePlaylist['items'][0]['id']"
   ]
  },
  {
   "cell_type": "code",
   "execution_count": null,
   "metadata": {},
   "outputs": [],
   "source": [
    "spotifyObject.user_playlist_add_tracks(user=username,playlist_id=playlist,tracks=list_of_songs);"
   ]
  }
 ],
 "metadata": {
  "interpreter": {
   "hash": "aee8b7b246df8f9039afb4144a1f6fd8d2ca17a180786b69acc140d282b71a49"
  },
  "kernelspec": {
   "display_name": "Python 3.8.0 64-bit",
   "language": "python",
   "name": "python3"
  },
  "language_info": {
   "codemirror_mode": {
    "name": "ipython",
    "version": 3
   },
   "file_extension": ".py",
   "mimetype": "text/x-python",
   "name": "python",
   "nbconvert_exporter": "python",
   "pygments_lexer": "ipython3",
   "version": "3.8.0"
  },
  "orig_nbformat": 4
 },
 "nbformat": 4,
 "nbformat_minor": 2
}
